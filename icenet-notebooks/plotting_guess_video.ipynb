{
 "cells": [
  {
   "cell_type": "code",
   "execution_count": 1,
   "metadata": {},
   "outputs": [],
   "source": [
    "import glob, os, warnings\n",
    "import logging\n",
    "import datetime as dt\n",
    "import logging\n",
    "import os\n",
    "\n",
    "from datetime import timedelta\n",
    "\n",
    "logging.basicConfig(level=logging.INFO)\n",
    "\n",
    "import datetime as dt\n",
    "import matplotlib\n",
    "import matplotlib.cm as cm\n",
    "import matplotlib.colors as colors\n",
    "import matplotlib.patches as patches\n",
    "import matplotlib.pyplot as plt\n",
    "from mpl_toolkits.axes_grid1 import make_axes_locatable\n",
    "from matplotlib.animation import FuncAnimation\n",
    "\n",
    "logging.getLogger(\"matplotlib.font_manager\").setLevel(logging.WARNING)\n",
    "\n",
    "matplotlib.rcParams.update({\n",
    "    'figure.facecolor': 'w',\n",
    "    'figure.figsize': (16, 8),\n",
    "    'figure.dpi': 75,\n",
    "    'font.size': 12\n",
    "})\n",
    "\n",
    "import numpy as np\n",
    "import pandas as pd\n",
    "import cartopy.crs as ccrs\n",
    "\n",
    "import xarray as xr \n",
    "\n",
    "from IPython.display import display, HTML\n",
    "\n",
    "%matplotlib inline"
   ]
  },
  {
   "cell_type": "code",
   "execution_count": 2,
   "metadata": {},
   "outputs": [],
   "source": [
    "from icenet.data.sic.mask import Masks\n",
    "\n",
    "from icenet.plotting.forecast import process_regions\n",
    "from icenet.plotting.utils import \\\n",
    "    filter_ds_by_obs, get_forecast_ds, get_obs_da, get_seas_forecast_da, \\\n",
    "    show_img, get_plot_axes\n",
    "\n",
    "from icenet.plotting.video import xarray_to_video \n",
    "from icenet.data.sic.mask import Masks"
   ]
  },
  {
   "cell_type": "markdown",
   "metadata": {},
   "source": [
    "```bash\n",
    "export SCOTT_VIDEO_START=\"2022-4-1\"\n",
    "export SCOTT_VIDEO_END=\"$SCOTT_VIDEO_START\"\n",
    "./run_prediction.sh scott_video dh23 north scott_video current\n",
    "./produce_op_assets.sh scott_video_north\n",
    "```"
   ]
  },
  {
   "cell_type": "code",
   "execution_count": 3,
   "metadata": {},
   "outputs": [
    {
     "name": "stderr",
     "output_type": "stream",
     "text": [
      "INFO:root:Got files: ['./data/osisaf/north/siconca/2022.nc']\n",
      "INFO:root:Starting index will be 0 for 2022-04-02 00:00:00 - 2022-07-03 00:00:00\n"
     ]
    }
   ],
   "source": [
    "forecast_file = \"2022-04-01/2022-04-01.nc\"\n",
    "forecast_date = \"2022-04-01\"\n",
    "hemisphere = \"north\"\n",
    "\n",
    "masks = Masks(north=hemisphere == \"north\",\n",
    "              south=hemisphere == \"south\")\n",
    "\n",
    "fc = get_forecast_ds(forecast_file,\n",
    "                     forecast_date)\n",
    "obs = get_obs_da(hemisphere,\n",
    "                 pd.to_datetime(forecast_date) + timedelta(days=1),\n",
    "                 pd.to_datetime(forecast_date) + timedelta(days=int(fc.leadtime.max())))\n",
    "fc = filter_ds_by_obs(fc, obs, forecast_date)"
   ]
  },
  {
   "cell_type": "code",
   "execution_count": 4,
   "metadata": {},
   "outputs": [
    {
     "name": "stderr",
     "output_type": "stream",
     "text": [
      "WARNING:root:No SEAS data available at ./data/mars.seas/north/siconca/20220401.nc\n"
     ]
    }
   ],
   "source": [
    "seas = get_seas_forecast_da(\n",
    "    hemisphere,\n",
    "    pd.to_datetime(forecast_date),\n",
    "    bias_correct=False)\n",
    "\n",
    "if seas is not None:\n",
    "    seas = seas.assign_coords(dict(xc=seas.xc / 1e3, yc=seas.yc / 1e3))\n",
    "    seas = seas.isel(time=slice(1, None))"
   ]
  },
  {
   "cell_type": "code",
   "execution_count": 5,
   "metadata": {},
   "outputs": [],
   "source": [
    "masks = Masks(north=True, south=False)\n",
    "land_mask = masks.get_land_mask()"
   ]
  },
  {
   "cell_type": "code",
   "execution_count": null,
   "metadata": {},
   "outputs": [],
   "source": [
    "#fc, obs, masks = process_regions(args.region, [fc, obs, masks])"
   ]
  },
  {
   "cell_type": "code",
   "execution_count": null,
   "metadata": {},
   "outputs": [],
   "source": []
  },
  {
   "cell_type": "code",
   "execution_count": null,
   "metadata": {},
   "outputs": [],
   "source": []
  },
  {
   "cell_type": "code",
   "execution_count": 7,
   "metadata": {},
   "outputs": [
    {
     "name": "stderr",
     "output_type": "stream",
     "text": [
      "INFO:matplotlib.animation:Animation.save using <class 'matplotlib.animation.FFMpegWriter'>\n",
      "INFO:matplotlib.animation:figure size in inches has been adjusted from 15.0 x 8.0 to 14.986666666666666 x 8.0\n",
      "INFO:matplotlib.animation:MovieWriter._run: running command: ffmpeg -f rawvideo -vcodec rawvideo -s 1124x600 -pix_fmt rgba -r 20 -loglevel error -i pipe: -vcodec h264 -pix_fmt yuv420p -vcodec libx264 -y guess_video.mp4\n"
     ]
    }
   ],
   "source": [
    "def update(date):\n",
    "    fc_img.set_data(fc.sel(time=date))\n",
    "    ob_img.set_data(obs.sel(time=date))\n",
    "    \n",
    "    image_title.set_text(\"{:04d}/{:02d}/{:02d}\".format(\n",
    "        date.year, date.month, date.day))\n",
    "\n",
    "    return fc_img, ob_img, image_title\n",
    "\n",
    "video_dates = [pd.Timestamp(date).to_pydatetime()\n",
    "               for date in fc.time.values]\n",
    "\n",
    "fig, axs = plt.subplots(1, 2, constrained_layout=True, figsize=(15, 8),)\n",
    "\n",
    "for ax in axs:\n",
    "    ax.xaxis.set_visible(False)\n",
    "    ax.yaxis.set_visible(False)\n",
    "\n",
    "cmap = matplotlib.colormaps.get_cmap(\"viridis\")\n",
    "cmap.set_bad(color=\"dimgrey\")\n",
    "\n",
    "date = pd.Timestamp(fc.time.values[0]).to_pydatetime()\n",
    "fc_img = axs[0].imshow(fc.sel(time=date),\n",
    "                       cmap=cmap,\n",
    "                       animated=True,\n",
    "                       zorder=1)\n",
    "ob_img = axs[1].imshow(obs.sel(time=date),\n",
    "                       cmap=cmap,\n",
    "                       animated=True,\n",
    "                       zorder=1)\n",
    "\n",
    "image_title = fig.suptitle(\"{:04d}/{:02d}/{:02d}\".\n",
    "                           format(date.year, date.month, date.day),\n",
    "                           fontsize=\"medium\", zorder=2)\n",
    "\n",
    "axs[0].contourf(land_mask,\n",
    "                levels=[.5, 1],\n",
    "                colors=[cm.gray(180)],\n",
    "                zorder=3)\n",
    "axs[1].contourf(land_mask,\n",
    "                levels=[.5, 1],\n",
    "                colors=[cm.gray(180)],\n",
    "                zorder=3)\n",
    "#fig.colorbar(fc_img, ax=axs[0:1], shrink=0.2)\n",
    "\n",
    "animation = FuncAnimation(fig,\n",
    "                          update,\n",
    "                          video_dates,\n",
    "                          interval=1000/20)\n",
    "\n",
    "plt.close()\n",
    "\n",
    "animation.save(\"guess_video.mp4\",\n",
    "               fps=20,\n",
    "               extra_args=['-vcodec', 'libx264'])"
   ]
  },
  {
   "cell_type": "code",
   "execution_count": 8,
   "metadata": {},
   "outputs": [
    {
     "data": {
      "text/html": [
       "<video src=\"guess_video.mp4\" controls  >\n",
       "      Your browser does not support the <code>video</code> element.\n",
       "    </video>"
      ],
      "text/plain": [
       "<IPython.core.display.Video object>"
      ]
     },
     "execution_count": 8,
     "metadata": {},
     "output_type": "execute_result"
    }
   ],
   "source": [
    "from IPython.display import Video\n",
    "Video(\"guess_video.mp4\")"
   ]
  },
  {
   "cell_type": "code",
   "execution_count": null,
   "metadata": {},
   "outputs": [],
   "source": []
  }
 ],
 "metadata": {
  "kernelspec": {
   "display_name": "Python [conda env:miniconda3-icenet-new]",
   "language": "python",
   "name": "conda-env-miniconda3-icenet-new-py"
  },
  "language_info": {
   "codemirror_mode": {
    "name": "ipython",
    "version": 3
   },
   "file_extension": ".py",
   "mimetype": "text/x-python",
   "name": "python",
   "nbconvert_exporter": "python",
   "pygments_lexer": "ipython3",
   "version": "3.8.16"
  },
  "widgets": {
   "application/vnd.jupyter.widget-state+json": {
    "state": {},
    "version_major": 2,
    "version_minor": 0
   }
  }
 },
 "nbformat": 4,
 "nbformat_minor": 4
}
