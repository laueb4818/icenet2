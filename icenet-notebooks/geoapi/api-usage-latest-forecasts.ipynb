{
 "cells": [
  {
   "cell_type": "markdown",
   "id": "b934ccab",
   "metadata": {},
   "source": [
    "# Using the IceNet API for the latest forecasts\n",
    "This notebook will explain how to retrieve `IceNet` data from the public API and display it locally.\n",
    "\n",
    "The forecasts are made on the central part (432x432) of the 720x720 [EASE2 5km grid](https://nsidc.org/ease/ease-grid-projection-gt) projections.\n",
    "This means that the northern hemisphere uses the [EPSG:6931](https://epsg.io/6931) projection and the southern hemisphere uses [EPSG:6932](https://epsg.io/6932)."
   ]
  },
  {
   "cell_type": "code",
   "execution_count": 1,
   "id": "428ae2c1",
   "metadata": {},
   "outputs": [],
   "source": [
    "# Import required modules\n",
    "import datetime\n",
    "import requests\n",
    "import geopandas as gpd\n",
    "import matplotlib.pyplot as plt\n",
    "import pandas as pd\n",
    "from shapely.geometry import Point"
   ]
  },
  {
   "cell_type": "code",
   "execution_count": 2,
   "id": "ec7ed287",
   "metadata": {},
   "outputs": [],
   "source": [
    "# Set the base URL for API requests\n",
    "api_base_url = \"https://app-icenetgeoapi-pygeoapi.azurewebsites.net/\""
   ]
  },
  {
   "cell_type": "markdown",
   "id": "615c5014",
   "metadata": {},
   "source": [
    "## Finding available datasets\n",
    "In order to see which datasets are available we need to call the `collections` endpoint."
   ]
  },
  {
   "cell_type": "code",
   "execution_count": 3,
   "id": "b54ea877",
   "metadata": {},
   "outputs": [
    {
     "name": "stdout",
     "output_type": "stream",
     "text": [
      "north_cells; Geometric grid cells (north); Northern hemisphere geometric grid cells\n",
      "south_cells; Geometric grid cells (south); Southern hemisphere geometric grid cells\n",
      "north_forecasts_latest; Latest forecasts (north); Most recent set of northern hemisphere sea ice concentration forecasts\n",
      "south_forecasts_latest; Latest forecasts (south); Most recent set of southern hemisphere sea ice concentration forecasts\n",
      "north_forecasts_historic; All forecasts (north); Historic northern hemisphere sea ice concentration forecasts\n",
      "south_forecasts_historic; All forecasts (south); Historic southern hemisphere sea ice concentration forecasts\n"
     ]
    }
   ],
   "source": [
    "# Find out which collections are available\n",
    "response = requests.get(f\"{api_base_url}/collections\")\n",
    "collections = response.json()[\"collections\"]\n",
    "for collection in collections:\n",
    "    print(f\"{collection['id']}; {collection['title']}; {collection['description']}\")"
   ]
  },
  {
   "cell_type": "markdown",
   "id": "4fd74070",
   "metadata": {},
   "source": [
    "We can see that there are currently six collections available\n",
    "- Northern hemisphere cells (`north_cells`): the EPSG:6931 grid geometries\n",
    "- Southern hemisphere cells (`south_cells`): the EPSG:6932 grid geometries\n",
    "- Northern hemisphere latest forecasts (`north_forecasts_latest`): latest sea ice concentration forecasts from the IceNet algorithm\n",
    "- Southern hemisphere latest forecasts (`south_forecasts_latest`): latest sea ice concentration forecasts from the IceNet algorithm\n",
    "- Northern hemisphere historic forecasts (`north_forecasts_historic`): sea ice concentration forecasts from older versions of the IceNet algorithm\n",
    "- Southern hemisphere historic forecasts (`south_forecasts_historic`): sea ice concentration forecasts from older versions of the IceNet algorithm"
   ]
  },
  {
   "cell_type": "markdown",
   "id": "adb4d342",
   "metadata": {},
   "source": [
    "## Find dataset attributes\n",
    "The available attributes of the dataset can be found by calling the `queryables` endpoint."
   ]
  },
  {
   "cell_type": "code",
   "execution_count": 4,
   "id": "ea52331f",
   "metadata": {},
   "outputs": [
    {
     "data": {
      "text/plain": [
       "{'geometry': {'$ref': 'https://geojson.org/schema/Geometry.json'},\n",
       " 'forecast_id': {'title': 'forecast_id', 'type': 'int8'},\n",
       " 'date_forecast_generated': {'title': 'date_forecast_generated',\n",
       "  'type': 'date'},\n",
       " 'date_forecast_for': {'title': 'date_forecast_for', 'type': 'date'},\n",
       " 'cell_id': {'title': 'cell_id', 'type': 'int4'},\n",
       " 'sea_ice_concentration_mean': {'title': 'sea_ice_concentration_mean',\n",
       "  'type': 'float4'},\n",
       " 'sea_ice_concentration_stddev': {'title': 'sea_ice_concentration_stddev',\n",
       "  'type': 'float4'}}"
      ]
     },
     "execution_count": 4,
     "metadata": {},
     "output_type": "execute_result"
    }
   ],
   "source": [
    "# Find the list of queryables for northern hemisphere forecasts\n",
    "response = requests.get(f\"{api_base_url}/collections/north_forecasts_latest/queryables\")\n",
    "response.json()[\"properties\"]"
   ]
  },
  {
   "cell_type": "markdown",
   "id": "ff6d28f3",
   "metadata": {},
   "source": [
    "and here we can see the available columns that will be retrieved when a query is made\n",
    "\n",
    "- `geometry` (the geometric shape for which the forecast was made)\n",
    "- `forecast_id` (the ID of the forecast - only relevant for ensuring there are no duplicates)\n",
    "- `date_forecast_generated` (the date when the forecast was made)\n",
    "- `date_forecast_for` (which date the forecast was made for)\n",
    "- `sea_ice_concentration_mean` (the mean of the IceNet forecast)\n",
    "- `sea_ice_concentration_stddev` (the standard deviation of the IceNet forecast)"
   ]
  },
  {
   "cell_type": "markdown",
   "id": "7d9b35b3",
   "metadata": {},
   "source": [
    "## Retrieving data\n",
    "In order to retrieve one or more forecasts from the API we need to call the `items` endpoint."
   ]
  },
  {
   "cell_type": "code",
   "execution_count": 5,
   "id": "d977ca73",
   "metadata": {},
   "outputs": [],
   "source": [
    "# Get the latest available forecasts (limited to first 10 by default)\n",
    "response = requests.get(f\"{api_base_url}/collections/north_forecasts_latest/items\")"
   ]
  },
  {
   "cell_type": "code",
   "execution_count": 6,
   "id": "85d8af89",
   "metadata": {},
   "outputs": [
    {
     "data": {
      "text/plain": [
       "[{'type': 'Feature',\n",
       "  'geometry': {'type': 'Polygon',\n",
       "   'coordinates': [[[-135, 16.4247079225175],\n",
       "     [-135.132936604874, 16.623695732259],\n",
       "     [-135, 16.8228850033408],\n",
       "     [-134.867063395126, 16.623695732259],\n",
       "     [-135, 16.4247079225175]]]},\n",
       "  'properties': {'forecast_id': 1,\n",
       "   'date_forecast_generated': '2022-02-17',\n",
       "   'date_forecast_for': '2022-02-18',\n",
       "   'cell_id': 1,\n",
       "   'sea_ice_concentration_mean': 0.199749,\n",
       "   'sea_ice_concentration_stddev': 0.398392},\n",
       "  'id': 1},\n",
       " {'type': 'Feature',\n",
       "  'geometry': {'type': 'Polygon',\n",
       "   'coordinates': [[[-134.867063395126, 16.623695732259],\n",
       "     [-135, 16.8228850033408],\n",
       "     [-134.866443646294, 17.0213529826143],\n",
       "     [-134.733509923942, 16.8219602213448],\n",
       "     [-134.867063395126, 16.623695732259]]]},\n",
       "  'properties': {'forecast_id': 2,\n",
       "   'date_forecast_generated': '2022-02-17',\n",
       "   'date_forecast_for': '2022-02-18',\n",
       "   'cell_id': 2,\n",
       "   'sea_ice_concentration_mean': 0.597203,\n",
       "   'sea_ice_concentration_stddev': 0.482956},\n",
       "  'id': 2},\n",
       " {'type': 'Feature',\n",
       "  'geometry': {'type': 'Polygon',\n",
       "   'coordinates': [[[-134.733509923942, 16.8219602213448],\n",
       "     [-134.866443646294, 17.0213529826143],\n",
       "     [-134.732264661298, 17.2190997847523],\n",
       "     [-134.599336744208, 17.0195015207504],\n",
       "     [-134.733509923942, 16.8219602213448]]]},\n",
       "  'properties': {'forecast_id': 3,\n",
       "   'date_forecast_generated': '2022-02-17',\n",
       "   'date_forecast_for': '2022-02-18',\n",
       "   'cell_id': 3,\n",
       "   'sea_ice_concentration_mean': 0.583471,\n",
       "   'sea_ice_concentration_stddev': 0.477356},\n",
       "  'id': 3},\n",
       " {'type': 'Feature',\n",
       "  'geometry': {'type': 'Polygon',\n",
       "   'coordinates': [[[-134.599336744208, 17.0195015207504],\n",
       "     [-134.732264661298, 17.2190997847523],\n",
       "     [-134.597460162933, 17.4161254802106],\n",
       "     [-134.464541014435, 17.2163197172454],\n",
       "     [-134.599336744208, 17.0195015207504]]]},\n",
       "  'properties': {'forecast_id': 4,\n",
       "   'date_forecast_generated': '2022-02-17',\n",
       "   'date_forecast_for': '2022-02-18',\n",
       "   'cell_id': 4,\n",
       "   'sea_ice_concentration_mean': 0.594226,\n",
       "   'sea_ice_concentration_stddev': 0.485255},\n",
       "  'id': 4},\n",
       " {'type': 'Feature',\n",
       "  'geometry': {'type': 'Polygon',\n",
       "   'coordinates': [[[-134.464541014435, 17.2163197172454],\n",
       "     [-134.597460162933, 17.4161254802106],\n",
       "     [-134.462027269888, 17.6124300955132],\n",
       "     [-134.329119894272, 17.4124148536856],\n",
       "     [-134.464541014435, 17.2163197172454]]]},\n",
       "  'properties': {'forecast_id': 5,\n",
       "   'date_forecast_generated': '2022-02-17',\n",
       "   'date_forecast_for': '2022-02-18',\n",
       "   'cell_id': 5,\n",
       "   'sea_ice_concentration_mean': 0.594962,\n",
       "   'sea_ice_concentration_stddev': 0.485845},\n",
       "  'id': 5},\n",
       " {'type': 'Feature',\n",
       "  'geometry': {'type': 'Polygon',\n",
       "   'coordinates': [[[-134.329119894272, 17.4124148536856],\n",
       "     [-134.462027269888, 17.6124300955132],\n",
       "     [-134.325963102016, 17.8080136135322],\n",
       "     [-134.193070544898, 17.6077869292982],\n",
       "     [-134.329119894272, 17.4124148536856]]]},\n",
       "  'properties': {'forecast_id': 6,\n",
       "   'date_forecast_generated': '2022-02-17',\n",
       "   'date_forecast_for': '2022-02-18',\n",
       "   'cell_id': 6,\n",
       "   'sea_ice_concentration_mean': 0.594645,\n",
       "   'sea_ice_concentration_stddev': 0.485616},\n",
       "  'id': 6},\n",
       " {'type': 'Feature',\n",
       "  'geometry': {'type': 'Polygon',\n",
       "   'coordinates': [[[-134.193070544898, 17.6077869292982],\n",
       "     [-134.325963102016, 17.8080136135322],\n",
       "     [-134.189264780738, 18.0028759737636],\n",
       "     [-134.05639012943, 17.8024358999627],\n",
       "     [-134.193070544898, 17.6077869292982]]]},\n",
       "  'properties': {'forecast_id': 7,\n",
       "   'date_forecast_generated': '2022-02-17',\n",
       "   'date_forecast_for': '2022-02-18',\n",
       "   'cell_id': 7,\n",
       "   'sea_ice_concentration_mean': 0.598457,\n",
       "   'sea_ice_concentration_stddev': 0.488646},\n",
       "  'id': 7},\n",
       " {'type': 'Feature',\n",
       "  'geometry': {'type': 'Polygon',\n",
       "   'coordinates': [[[-134.05639012943, 17.8024358999627],\n",
       "     [-134.189264780738, 18.0028759737636],\n",
       "     [-134.051929429459, 18.1970170725974],\n",
       "     [-133.919075813339, 17.9963616784872],\n",
       "     [-134.05639012943, 17.8024358999627]]]},\n",
       "  'properties': {'forecast_id': 8,\n",
       "   'date_forecast_generated': '2022-02-17',\n",
       "   'date_forecast_for': '2022-02-18',\n",
       "   'cell_id': 8,\n",
       "   'sea_ice_concentration_mean': 0.592506,\n",
       "   'sea_ice_concentration_stddev': 0.483969},\n",
       "  'id': 8},\n",
       " {'type': 'Feature',\n",
       "  'geometry': {'type': 'Polygon',\n",
       "   'coordinates': [[[-133.919075813339, 17.9963616784872],\n",
       "     [-134.051929429459, 18.1970170725974],\n",
       "     [-133.913954173994, 18.3904367635838],\n",
       "     [-133.781124764869, 18.18956413488],\n",
       "     [-133.919075813339, 17.9963616784872]]]},\n",
       "  'properties': {'forecast_id': 9,\n",
       "   'date_forecast_generated': '2022-02-17',\n",
       "   'date_forecast_for': '2022-02-18',\n",
       "   'cell_id': 9,\n",
       "   'sea_ice_concentration_mean': 0.597777,\n",
       "   'sea_ice_concentration_stddev': 0.488098},\n",
       "  'id': 9},\n",
       " {'type': 'Feature',\n",
       "  'geometry': {'type': 'Polygon',\n",
       "   'coordinates': [[[-133.781124764869, 18.18956413488],\n",
       "     [-133.913954173994, 18.3904367635838],\n",
       "     [-133.775336142994, 18.5831348576946],\n",
       "     [-133.642534155469, 18.382043096616],\n",
       "     [-133.781124764869, 18.18956413488]]]},\n",
       "  'properties': {'forecast_id': 10,\n",
       "   'date_forecast_generated': '2022-02-17',\n",
       "   'date_forecast_for': '2022-02-18',\n",
       "   'cell_id': 10,\n",
       "   'sea_ice_concentration_mean': 0.5989,\n",
       "   'sea_ice_concentration_stddev': 0.489004},\n",
       "  'id': 10}]"
      ]
     },
     "execution_count": 6,
     "metadata": {},
     "output_type": "execute_result"
    }
   ],
   "source": [
    "# Take a look at the available features\n",
    "response.json()[\"features\"]"
   ]
  },
  {
   "cell_type": "markdown",
   "id": "f9d0d3a2",
   "metadata": {},
   "source": [
    "## Retrieving all available data\n",
    "Let's get the latest available forecasts (probably made today or yesterday) for a particular date in the future: we'll choose two weeks from today."
   ]
  },
  {
   "cell_type": "code",
   "execution_count": 7,
   "id": "0e783d1a",
   "metadata": {},
   "outputs": [
    {
     "name": "stdout",
     "output_type": "stream",
     "text": [
      "2022-03-04\n"
     ]
    }
   ],
   "source": [
    "# Set the target date\n",
    "target_date = (datetime.datetime.today() + datetime.timedelta(days=14)).date()\n",
    "print(target_date)"
   ]
  },
  {
   "cell_type": "markdown",
   "id": "a7b17bab",
   "metadata": {},
   "source": [
    "The API has a hard-coded limit on how long a query can take, so to retrieve large amounts of data we define a convenience function"
   ]
  },
  {
   "cell_type": "code",
   "execution_count": 8,
   "id": "3205cb8a",
   "metadata": {},
   "outputs": [],
   "source": [
    "# As Azure has a hard-coded 230s timeout we must retrieve the results in batches\n",
    "def get_api_batches(base_url, batch_size):\n",
    "    start_index, n_data_points = 0, batch_size\n",
    "    responses = []\n",
    "    # Retrieve 'batch_size' points, starting from where we ended the last batch\n",
    "    # Terminate when there are fewer than 'batch_size' points returned - indicating the end of the dataset\n",
    "    while n_data_points == batch_size:\n",
    "        response = requests.get(f\"{base_url}&startindex={start_index}&limit={batch_size}\")\n",
    "        n_data_points = len(response.json()[\"features\"])\n",
    "        responses.append(response)\n",
    "        start_index += batch_size\n",
    "        print(f\"Loaded batch of {n_data_points} forecasts...\")\n",
    "    print(f\"Finished: loaded {sum([len(r.json()['features']) for r in responses])} forecasts in total\")\n",
    "    return responses"
   ]
  },
  {
   "cell_type": "code",
   "execution_count": 9,
   "id": "721d267a",
   "metadata": {},
   "outputs": [
    {
     "name": "stdout",
     "output_type": "stream",
     "text": [
      "Loaded batch of 50000 forecasts...\n",
      "Loaded batch of 47527 forecasts...\n",
      "Finished: loaded 97527 forecasts in total\n"
     ]
    }
   ],
   "source": [
    "# In order to retrieve all the results we keep making requests until the API stops returning new data\n",
    "responses_north = get_api_batches(\n",
    "    f\"{api_base_url}/collections/north_forecasts_latest/items?date_forecast_for={target_date}\",\n",
    "    50000,\n",
    ")"
   ]
  },
  {
   "cell_type": "markdown",
   "id": "903ad8c5",
   "metadata": {},
   "source": [
    "We have now retrieved data for all grid cells that have a non-zero forecast for sea-ice coverage."
   ]
  },
  {
   "cell_type": "markdown",
   "id": "c1cb72e1",
   "metadata": {},
   "source": [
    "## Loading into GeoPandas\n",
    "Rather than looking at the JSON directly, it is probably better to deal with a library that understands GeoJSON.\n",
    "In the rest of this example, we will use `geopandas`."
   ]
  },
  {
   "cell_type": "code",
   "execution_count": 10,
   "id": "50373d96",
   "metadata": {},
   "outputs": [
    {
     "data": {
      "text/html": [
       "<div>\n",
       "<style scoped>\n",
       "    .dataframe tbody tr th:only-of-type {\n",
       "        vertical-align: middle;\n",
       "    }\n",
       "\n",
       "    .dataframe tbody tr th {\n",
       "        vertical-align: top;\n",
       "    }\n",
       "\n",
       "    .dataframe thead th {\n",
       "        text-align: right;\n",
       "    }\n",
       "</style>\n",
       "<table border=\"1\" class=\"dataframe\">\n",
       "  <thead>\n",
       "    <tr style=\"text-align: right;\">\n",
       "      <th></th>\n",
       "      <th>geometry</th>\n",
       "      <th>forecast_id</th>\n",
       "      <th>date_forecast_generated</th>\n",
       "      <th>date_forecast_for</th>\n",
       "      <th>cell_id</th>\n",
       "      <th>sea_ice_concentration_mean</th>\n",
       "      <th>sea_ice_concentration_stddev</th>\n",
       "    </tr>\n",
       "  </thead>\n",
       "  <tbody>\n",
       "    <tr>\n",
       "      <th>0</th>\n",
       "      <td>POLYGON ((-135.00000 16.42471, -135.13294 16.6...</td>\n",
       "      <td>1365379</td>\n",
       "      <td>2022-02-17</td>\n",
       "      <td>2022-03-04</td>\n",
       "      <td>1</td>\n",
       "      <td>0.266712</td>\n",
       "      <td>0.388724</td>\n",
       "    </tr>\n",
       "    <tr>\n",
       "      <th>1</th>\n",
       "      <td>POLYGON ((-134.86706 16.62370, -135.00000 16.8...</td>\n",
       "      <td>1365380</td>\n",
       "      <td>2022-02-17</td>\n",
       "      <td>2022-03-04</td>\n",
       "      <td>2</td>\n",
       "      <td>0.799883</td>\n",
       "      <td>0.399941</td>\n",
       "    </tr>\n",
       "    <tr>\n",
       "      <th>2</th>\n",
       "      <td>POLYGON ((-134.73351 16.82196, -134.86644 17.0...</td>\n",
       "      <td>1365381</td>\n",
       "      <td>2022-02-17</td>\n",
       "      <td>2022-03-04</td>\n",
       "      <td>3</td>\n",
       "      <td>0.799996</td>\n",
       "      <td>0.399984</td>\n",
       "    </tr>\n",
       "    <tr>\n",
       "      <th>3</th>\n",
       "      <td>POLYGON ((-134.59934 17.01950, -134.73226 17.2...</td>\n",
       "      <td>1365382</td>\n",
       "      <td>2022-02-17</td>\n",
       "      <td>2022-03-04</td>\n",
       "      <td>4</td>\n",
       "      <td>0.601116</td>\n",
       "      <td>0.488534</td>\n",
       "    </tr>\n",
       "    <tr>\n",
       "      <th>4</th>\n",
       "      <td>POLYGON ((-134.46454 17.21632, -134.59746 17.4...</td>\n",
       "      <td>1365383</td>\n",
       "      <td>2022-02-17</td>\n",
       "      <td>2022-03-04</td>\n",
       "      <td>5</td>\n",
       "      <td>0.600000</td>\n",
       "      <td>0.489898</td>\n",
       "    </tr>\n",
       "  </tbody>\n",
       "</table>\n",
       "</div>"
      ],
      "text/plain": [
       "                                            geometry  forecast_id  \\\n",
       "0  POLYGON ((-135.00000 16.42471, -135.13294 16.6...      1365379   \n",
       "1  POLYGON ((-134.86706 16.62370, -135.00000 16.8...      1365380   \n",
       "2  POLYGON ((-134.73351 16.82196, -134.86644 17.0...      1365381   \n",
       "3  POLYGON ((-134.59934 17.01950, -134.73226 17.2...      1365382   \n",
       "4  POLYGON ((-134.46454 17.21632, -134.59746 17.4...      1365383   \n",
       "\n",
       "  date_forecast_generated date_forecast_for  cell_id  \\\n",
       "0              2022-02-17        2022-03-04        1   \n",
       "1              2022-02-17        2022-03-04        2   \n",
       "2              2022-02-17        2022-03-04        3   \n",
       "3              2022-02-17        2022-03-04        4   \n",
       "4              2022-02-17        2022-03-04        5   \n",
       "\n",
       "   sea_ice_concentration_mean  sea_ice_concentration_stddev  \n",
       "0                    0.266712                      0.388724  \n",
       "1                    0.799883                      0.399941  \n",
       "2                    0.799996                      0.399984  \n",
       "3                    0.601116                      0.488534  \n",
       "4                    0.600000                      0.489898  "
      ]
     },
     "execution_count": 10,
     "metadata": {},
     "output_type": "execute_result"
    }
   ],
   "source": [
    "# Look at the first few rows of data\n",
    "geodata_north = pd.concat([gpd.GeoDataFrame.from_features(r.json(), crs=\"EPSG:4326\") for r in responses_north])\n",
    "geodata_north.head()"
   ]
  },
  {
   "cell_type": "markdown",
   "id": "100bffba",
   "metadata": {},
   "source": [
    "Let's convert from `EPSG:4326` (World Geodetic System projection) to `EPSG:6931` (NSIDC EASE-Grid for the North Pole)"
   ]
  },
  {
   "cell_type": "code",
   "execution_count": 11,
   "id": "3e32f652",
   "metadata": {},
   "outputs": [
    {
     "data": {
      "text/html": [
       "<div>\n",
       "<style scoped>\n",
       "    .dataframe tbody tr th:only-of-type {\n",
       "        vertical-align: middle;\n",
       "    }\n",
       "\n",
       "    .dataframe tbody tr th {\n",
       "        vertical-align: top;\n",
       "    }\n",
       "\n",
       "    .dataframe thead th {\n",
       "        text-align: right;\n",
       "    }\n",
       "</style>\n",
       "<table border=\"1\" class=\"dataframe\">\n",
       "  <thead>\n",
       "    <tr style=\"text-align: right;\">\n",
       "      <th></th>\n",
       "      <th>geometry</th>\n",
       "      <th>forecast_id</th>\n",
       "      <th>date_forecast_generated</th>\n",
       "      <th>date_forecast_for</th>\n",
       "      <th>cell_id</th>\n",
       "      <th>sea_ice_concentration_mean</th>\n",
       "      <th>sea_ice_concentration_stddev</th>\n",
       "    </tr>\n",
       "  </thead>\n",
       "  <tbody>\n",
       "    <tr>\n",
       "      <th>0</th>\n",
       "      <td>POLYGON ((-5400000.001 5400000.001, -5375000.0...</td>\n",
       "      <td>1365379</td>\n",
       "      <td>2022-02-17</td>\n",
       "      <td>2022-03-04</td>\n",
       "      <td>1</td>\n",
       "      <td>0.266712</td>\n",
       "      <td>0.388724</td>\n",
       "    </tr>\n",
       "    <tr>\n",
       "      <th>1</th>\n",
       "      <td>POLYGON ((-5400000.001 5375000.001, -5375000.0...</td>\n",
       "      <td>1365380</td>\n",
       "      <td>2022-02-17</td>\n",
       "      <td>2022-03-04</td>\n",
       "      <td>2</td>\n",
       "      <td>0.799883</td>\n",
       "      <td>0.399941</td>\n",
       "    </tr>\n",
       "    <tr>\n",
       "      <th>2</th>\n",
       "      <td>POLYGON ((-5400000.001 5350000.001, -5375000.0...</td>\n",
       "      <td>1365381</td>\n",
       "      <td>2022-02-17</td>\n",
       "      <td>2022-03-04</td>\n",
       "      <td>3</td>\n",
       "      <td>0.799996</td>\n",
       "      <td>0.399984</td>\n",
       "    </tr>\n",
       "    <tr>\n",
       "      <th>3</th>\n",
       "      <td>POLYGON ((-5400000.001 5325000.001, -5375000.0...</td>\n",
       "      <td>1365382</td>\n",
       "      <td>2022-02-17</td>\n",
       "      <td>2022-03-04</td>\n",
       "      <td>4</td>\n",
       "      <td>0.601116</td>\n",
       "      <td>0.488534</td>\n",
       "    </tr>\n",
       "    <tr>\n",
       "      <th>4</th>\n",
       "      <td>POLYGON ((-5400000.001 5300000.001, -5375000.0...</td>\n",
       "      <td>1365383</td>\n",
       "      <td>2022-02-17</td>\n",
       "      <td>2022-03-04</td>\n",
       "      <td>5</td>\n",
       "      <td>0.600000</td>\n",
       "      <td>0.489898</td>\n",
       "    </tr>\n",
       "  </tbody>\n",
       "</table>\n",
       "</div>"
      ],
      "text/plain": [
       "                                            geometry  forecast_id  \\\n",
       "0  POLYGON ((-5400000.001 5400000.001, -5375000.0...      1365379   \n",
       "1  POLYGON ((-5400000.001 5375000.001, -5375000.0...      1365380   \n",
       "2  POLYGON ((-5400000.001 5350000.001, -5375000.0...      1365381   \n",
       "3  POLYGON ((-5400000.001 5325000.001, -5375000.0...      1365382   \n",
       "4  POLYGON ((-5400000.001 5300000.001, -5375000.0...      1365383   \n",
       "\n",
       "  date_forecast_generated date_forecast_for  cell_id  \\\n",
       "0              2022-02-17        2022-03-04        1   \n",
       "1              2022-02-17        2022-03-04        2   \n",
       "2              2022-02-17        2022-03-04        3   \n",
       "3              2022-02-17        2022-03-04        4   \n",
       "4              2022-02-17        2022-03-04        5   \n",
       "\n",
       "   sea_ice_concentration_mean  sea_ice_concentration_stddev  \n",
       "0                    0.266712                      0.388724  \n",
       "1                    0.799883                      0.399941  \n",
       "2                    0.799996                      0.399984  \n",
       "3                    0.601116                      0.488534  \n",
       "4                    0.600000                      0.489898  "
      ]
     },
     "execution_count": 11,
     "metadata": {},
     "output_type": "execute_result"
    }
   ],
   "source": [
    "# Convert to EPSG:6931\n",
    "geodata_north.to_crs(6931, inplace=True)\n",
    "geodata_north.head()"
   ]
  },
  {
   "cell_type": "code",
   "execution_count": 12,
   "id": "696103e5",
   "metadata": {},
   "outputs": [
    {
     "name": "stdout",
     "output_type": "stream",
     "text": [
      "Loaded batch of 50000 forecasts...\n",
      "Loaded batch of 50000 forecasts...\n",
      "Loaded batch of 50000 forecasts...\n",
      "Loaded batch of 3353 forecasts...\n",
      "Finished: loaded 153353 forecasts in total\n"
     ]
    },
    {
     "data": {
      "text/html": [
       "<div>\n",
       "<style scoped>\n",
       "    .dataframe tbody tr th:only-of-type {\n",
       "        vertical-align: middle;\n",
       "    }\n",
       "\n",
       "    .dataframe tbody tr th {\n",
       "        vertical-align: top;\n",
       "    }\n",
       "\n",
       "    .dataframe thead th {\n",
       "        text-align: right;\n",
       "    }\n",
       "</style>\n",
       "<table border=\"1\" class=\"dataframe\">\n",
       "  <thead>\n",
       "    <tr style=\"text-align: right;\">\n",
       "      <th></th>\n",
       "      <th>geometry</th>\n",
       "      <th>forecast_id</th>\n",
       "      <th>date_forecast_generated</th>\n",
       "      <th>date_forecast_for</th>\n",
       "      <th>cell_id</th>\n",
       "      <th>sea_ice_concentration_mean</th>\n",
       "      <th>sea_ice_concentration_stddev</th>\n",
       "    </tr>\n",
       "  </thead>\n",
       "  <tbody>\n",
       "    <tr>\n",
       "      <th>0</th>\n",
       "      <td>POLYGON ((-5400000.001 1575000.000, -5375000.0...</td>\n",
       "      <td>2146943</td>\n",
       "      <td>2022-02-17</td>\n",
       "      <td>2022-03-04</td>\n",
       "      <td>154</td>\n",
       "      <td>0.771382</td>\n",
       "      <td>0.327183</td>\n",
       "    </tr>\n",
       "    <tr>\n",
       "      <th>1</th>\n",
       "      <td>POLYGON ((-5400000.001 1550000.000, -5375000.0...</td>\n",
       "      <td>2146944</td>\n",
       "      <td>2022-02-17</td>\n",
       "      <td>2022-03-04</td>\n",
       "      <td>155</td>\n",
       "      <td>0.749444</td>\n",
       "      <td>0.334100</td>\n",
       "    </tr>\n",
       "    <tr>\n",
       "      <th>2</th>\n",
       "      <td>POLYGON ((-5400000.001 1525000.000, -5375000.0...</td>\n",
       "      <td>2146945</td>\n",
       "      <td>2022-02-17</td>\n",
       "      <td>2022-03-04</td>\n",
       "      <td>156</td>\n",
       "      <td>0.741106</td>\n",
       "      <td>0.338866</td>\n",
       "    </tr>\n",
       "    <tr>\n",
       "      <th>3</th>\n",
       "      <td>POLYGON ((-5400000.001 1500000.000, -5375000.0...</td>\n",
       "      <td>2146946</td>\n",
       "      <td>2022-02-17</td>\n",
       "      <td>2022-03-04</td>\n",
       "      <td>157</td>\n",
       "      <td>0.746626</td>\n",
       "      <td>0.335574</td>\n",
       "    </tr>\n",
       "    <tr>\n",
       "      <th>4</th>\n",
       "      <td>POLYGON ((-5400000.001 1475000.000, -5375000.0...</td>\n",
       "      <td>2146947</td>\n",
       "      <td>2022-02-17</td>\n",
       "      <td>2022-03-04</td>\n",
       "      <td>158</td>\n",
       "      <td>0.751134</td>\n",
       "      <td>0.334430</td>\n",
       "    </tr>\n",
       "  </tbody>\n",
       "</table>\n",
       "</div>"
      ],
      "text/plain": [
       "                                            geometry  forecast_id  \\\n",
       "0  POLYGON ((-5400000.001 1575000.000, -5375000.0...      2146943   \n",
       "1  POLYGON ((-5400000.001 1550000.000, -5375000.0...      2146944   \n",
       "2  POLYGON ((-5400000.001 1525000.000, -5375000.0...      2146945   \n",
       "3  POLYGON ((-5400000.001 1500000.000, -5375000.0...      2146946   \n",
       "4  POLYGON ((-5400000.001 1475000.000, -5375000.0...      2146947   \n",
       "\n",
       "  date_forecast_generated date_forecast_for  cell_id  \\\n",
       "0              2022-02-17        2022-03-04      154   \n",
       "1              2022-02-17        2022-03-04      155   \n",
       "2              2022-02-17        2022-03-04      156   \n",
       "3              2022-02-17        2022-03-04      157   \n",
       "4              2022-02-17        2022-03-04      158   \n",
       "\n",
       "   sea_ice_concentration_mean  sea_ice_concentration_stddev  \n",
       "0                    0.771382                      0.327183  \n",
       "1                    0.749444                      0.334100  \n",
       "2                    0.741106                      0.338866  \n",
       "3                    0.746626                      0.335574  \n",
       "4                    0.751134                      0.334430  "
      ]
     },
     "execution_count": 12,
     "metadata": {},
     "output_type": "execute_result"
    }
   ],
   "source": [
    "# Now let's do the same thing for the southern hemisphere\n",
    "responses_south = get_api_batches(\n",
    "    f\"{api_base_url}/collections/south_forecasts_latest/items?date_forecast_for={target_date}\",\n",
    "    50000,\n",
    ")\n",
    "geodata_south = pd.concat(\n",
    "    [gpd.GeoDataFrame.from_features(r.json(), crs=\"EPSG:4326\").to_crs(6932) for r in responses_south]\n",
    ")\n",
    "geodata_south.head()"
   ]
  },
  {
   "cell_type": "markdown",
   "id": "f4ee008f",
   "metadata": {},
   "source": [
    "## Plotting retrieved data\n",
    "We can now plot this data on a world map."
   ]
  },
  {
   "cell_type": "code",
   "execution_count": 13,
   "id": "2803fd22",
   "metadata": {},
   "outputs": [],
   "source": [
    "# Load geometries for all world landmasses\n",
    "world = gpd.read_file(gpd.datasets.get_path(\"naturalearth_lowres\"))"
   ]
  },
  {
   "cell_type": "code",
   "execution_count": 14,
   "id": "b07a02ab",
   "metadata": {},
   "outputs": [],
   "source": [
    "# Construct a circle with radius 5400km centered on the North pole\n",
    "boundary_north = gpd.GeoDataFrame(\n",
    "    {\"origin\": [Point(0, 0)], \"geometry\": [Point(0, 0).buffer(5400 * 1000)]},\n",
    "    crs=\"EPSG:6931\",\n",
    ")"
   ]
  },
  {
   "cell_type": "code",
   "execution_count": 15,
   "id": "1c42a517",
   "metadata": {},
   "outputs": [],
   "source": [
    "# Select only those landmasses that intersect with the boundary (NB. we have to manually exclude Antarctica)\n",
    "world_north = gpd.overlay(\n",
    "    world.loc[world.continent != \"Antarctica\"].to_crs(\"EPSG:6931\"),\n",
    "    boundary_north,\n",
    "    how=\"intersection\",\n",
    ")\n",
    "geodata_north = gpd.overlay(geodata_north, boundary_north, how=\"intersection\")"
   ]
  },
  {
   "cell_type": "code",
   "execution_count": 16,
   "id": "8bf64c74",
   "metadata": {},
   "outputs": [],
   "source": [
    "# ... and the same for the South Pole\n",
    "boundary_south = gpd.GeoDataFrame(\n",
    "    {\"origin\": [Point(0, 0)], \"geometry\": [Point(0, 0).buffer(5400 * 1000)]},\n",
    "    crs=\"EPSG:6932\",\n",
    ")\n",
    "world_south = gpd.overlay(world.to_crs(\"EPSG:6932\"), boundary_south, how=\"intersection\")\n",
    "geodata_south = gpd.overlay(geodata_south, boundary_south, how=\"intersection\")"
   ]
  },
  {
   "cell_type": "code",
   "execution_count": 17,
   "id": "d51264c7",
   "metadata": {},
   "outputs": [
    {
     "data": {
      "image/png": "[encoded data removed]",
      "text/plain": [
       "<Figure size 1440x720 with 3 Axes>"
      ]
     },
     "metadata": {
      "needs_background": "light"
     },
     "output_type": "display_data"
    }
   ],
   "source": [
    "# Set up two subplots\n",
    "fig, axes = plt.subplots(1, 2, figsize=(20, 10))\n",
    "for axis in axes:\n",
    "    axis.set(xlim=(-6e6, 6e6), ylim=(-6e6, 6e6))\n",
    "    axis.set_aspect(\"equal\", \"box\")\n",
    "\n",
    "# Plot forecasts together with world map data\n",
    "world_north.plot(ax=axes[0], color=\"lightgray\")\n",
    "geodata_north.plot(ax=axes[0], column=\"sea_ice_concentration_mean\")\n",
    "world_south.plot(ax=axes[1], color=\"lightgray\")\n",
    "geodata_south.plot(ax=axes[1], column=\"sea_ice_concentration_mean\")\n",
    "\n",
    "# Plot a single legend for both subplots\n",
    "axes[0].collections[0].set_clim(0.0, 1.0)\n",
    "legend = fig.colorbar(axes[0].collections[0], ax=axes)"
   ]
  },
  {
   "cell_type": "markdown",
   "id": "43e87c6d",
   "metadata": {},
   "source": [
    "You have now succesfully retrieved `IceNet` data from our API and plotted it on a world map. 🎉"
   ]
  }
 ],
 "metadata": {
  "kernelspec": {
   "display_name": "Python 3 (ipykernel)",
   "language": "python",
   "name": "python3"
  },
  "language_info": {
   "codemirror_mode": {
    "name": "ipython",
    "version": 3
   },
   "file_extension": ".py",
   "mimetype": "text/x-python",
   "name": "python",
   "nbconvert_exporter": "python",
   "pygments_lexer": "ipython3",
   "version": "3.9.6"
  }
 },
 "nbformat": 4,
 "nbformat_minor": 5
}
