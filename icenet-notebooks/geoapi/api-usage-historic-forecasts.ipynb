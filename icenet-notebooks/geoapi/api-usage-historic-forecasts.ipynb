{
 "cells": [
  {
   "cell_type": "markdown",
   "id": "a4ce6500",
   "metadata": {},
   "source": [
    "# Using the IceNet API for historic forecasts\n",
    "This notebook will explain how to retrieve historic `IceNet` data from the public API and display it locally."
   ]
  },
  {
   "cell_type": "code",
   "execution_count": 1,
   "id": "5cd61024",
   "metadata": {},
   "outputs": [],
   "source": [
    "# Import required modules\n",
    "import datetime\n",
    "import requests\n",
    "import geopandas as gpd\n",
    "import matplotlib.pyplot as plt"
   ]
  },
  {
   "cell_type": "code",
   "execution_count": 2,
   "id": "a9da189e",
   "metadata": {},
   "outputs": [],
   "source": [
    "# Set the base URL for API requests\n",
    "api_base_url = \"https://app-icenetgeoapi-pygeoapi.azurewebsites.net/\""
   ]
  },
  {
   "cell_type": "markdown",
   "id": "e853f2dc",
   "metadata": {},
   "source": [
    "Let's see how the prediction for a particular cell changes over time. First, let's identify a cell in the Bering Sea (close to 53, -170)."
   ]
  },
  {
   "cell_type": "code",
   "execution_count": 3,
   "id": "7e40768f",
   "metadata": {},
   "outputs": [],
   "source": [
    "response = requests.get(f\"{api_base_url}/collections/north_forecasts_historic/items?bbox=-170.1,52.9,-169.9,53.1\")"
   ]
  },
  {
   "cell_type": "code",
   "execution_count": 4,
   "id": "a067b5a8",
   "metadata": {},
   "outputs": [
    {
     "name": "stdout",
     "output_type": "stream",
     "text": [
      "80840\n"
     ]
    }
   ],
   "source": [
    "cell_id = response.json()[\"features\"][0][\"properties\"][\"cell_id\"]\n",
    "print(cell_id)"
   ]
  },
  {
   "cell_type": "code",
   "execution_count": 5,
   "id": "0a4dd1a3",
   "metadata": {},
   "outputs": [],
   "source": [
    "# Retrieve the cell\n",
    "response = requests.get(f\"{api_base_url}/collections/north_cells/items?cell_id={cell_id}\")\n",
    "geodata = gpd.GeoDataFrame.from_features(response.json(), crs=\"EPSG:4326\")"
   ]
  },
  {
   "cell_type": "code",
   "execution_count": 6,
   "id": "93cb2a7b",
   "metadata": {},
   "outputs": [
    {
     "data": {
      "text/plain": [
       "<AxesSubplot:>"
      ]
     },
     "execution_count": 6,
     "metadata": {},
     "output_type": "execute_result"
    },
    {
     "data": {
      "image/png": "[encoded data removed]",
      "text/plain": [
       "<Figure size 864x720 with 1 Axes>"
      ]
     },
     "metadata": {
      "needs_background": "light"
     },
     "output_type": "display_data"
    }
   ],
   "source": [
    "# Let's take a look at where this is on a world map\n",
    "world = gpd.read_file(gpd.datasets.get_path(\"naturalearth_lowres\"))\n",
    "\n",
    "fig, axes = plt.subplots(1, figsize=(12, 10))\n",
    "axes.set(xlim=(-180, -160), ylim=(45, 60))\n",
    "world.plot(ax=axes, color=\"lightgray\")\n",
    "geodata.plot(ax=axes)"
   ]
  },
  {
   "cell_type": "markdown",
   "id": "f84d99d3",
   "metadata": {},
   "source": [
    "Now let's pick our target date - we'll use today."
   ]
  },
  {
   "cell_type": "code",
   "execution_count": 7,
   "id": "6604a4f9",
   "metadata": {},
   "outputs": [
    {
     "name": "stdout",
     "output_type": "stream",
     "text": [
      "2022-02-18\n"
     ]
    }
   ],
   "source": [
    "# Set the target date\n",
    "target_date = datetime.datetime.today().date()\n",
    "print(target_date)"
   ]
  },
  {
   "cell_type": "markdown",
   "id": "27b008c2",
   "metadata": {},
   "source": [
    "We'll use the following options in our query:\n",
    "- `cell_id` set to the `cell_id` we identified above\n",
    "- `date_forecast_for` set to our `target_date`\n",
    "- `sortby` set to `date_forecast_generated` so that we get results in ascending order of date\n",
    "- `limit` set to 1000 so that we get all available forecasts"
   ]
  },
  {
   "cell_type": "code",
   "execution_count": 8,
   "id": "1305ce1e",
   "metadata": {},
   "outputs": [],
   "source": [
    "response = requests.get(f\"{api_base_url}/collections/north_forecasts_historic/items?cell_id={cell_id}&date_forecast_for={target_date}&sortby=date_forecast_generated&limit=1000\")"
   ]
  },
  {
   "cell_type": "markdown",
   "id": "e0da6378",
   "metadata": {},
   "source": [
    "# Load data and plot it\n",
    "Let's load our data into `GeoPandas` and look at it"
   ]
  },
  {
   "cell_type": "code",
   "execution_count": 9,
   "id": "6ec06f5e",
   "metadata": {},
   "outputs": [
    {
     "data": {
      "text/html": [
       "<div>\n",
       "<style scoped>\n",
       "    .dataframe tbody tr th:only-of-type {\n",
       "        vertical-align: middle;\n",
       "    }\n",
       "\n",
       "    .dataframe tbody tr th {\n",
       "        vertical-align: top;\n",
       "    }\n",
       "\n",
       "    .dataframe thead th {\n",
       "        text-align: right;\n",
       "    }\n",
       "</style>\n",
       "<table border=\"1\" class=\"dataframe\">\n",
       "  <thead>\n",
       "    <tr style=\"text-align: right;\">\n",
       "      <th></th>\n",
       "      <th>geometry</th>\n",
       "      <th>forecast_id</th>\n",
       "      <th>date_forecast_generated</th>\n",
       "      <th>date_forecast_for</th>\n",
       "      <th>cell_id</th>\n",
       "      <th>sea_ice_concentration_mean</th>\n",
       "      <th>sea_ice_concentration_stddev</th>\n",
       "    </tr>\n",
       "  </thead>\n",
       "  <tbody>\n",
       "    <tr>\n",
       "      <th>0</th>\n",
       "      <td>POLYGON ((-169.78913 52.68087, -170.13419 52.7...</td>\n",
       "      <td>2227117</td>\n",
       "      <td>2022-01-03</td>\n",
       "      <td>2022-02-18</td>\n",
       "      <td>80840</td>\n",
       "      <td>1.0</td>\n",
       "      <td>0.0</td>\n",
       "    </tr>\n",
       "    <tr>\n",
       "      <th>1</th>\n",
       "      <td>POLYGON ((-169.78913 52.68087, -170.13419 52.7...</td>\n",
       "      <td>19583148</td>\n",
       "      <td>2022-01-04</td>\n",
       "      <td>2022-02-18</td>\n",
       "      <td>80840</td>\n",
       "      <td>1.0</td>\n",
       "      <td>0.0</td>\n",
       "    </tr>\n",
       "    <tr>\n",
       "      <th>2</th>\n",
       "      <td>POLYGON ((-169.78913 52.68087, -170.13419 52.7...</td>\n",
       "      <td>36939179</td>\n",
       "      <td>2022-01-05</td>\n",
       "      <td>2022-02-18</td>\n",
       "      <td>80840</td>\n",
       "      <td>1.0</td>\n",
       "      <td>0.0</td>\n",
       "    </tr>\n",
       "    <tr>\n",
       "      <th>3</th>\n",
       "      <td>POLYGON ((-169.78913 52.68087, -170.13419 52.7...</td>\n",
       "      <td>54295210</td>\n",
       "      <td>2022-01-06</td>\n",
       "      <td>2022-02-18</td>\n",
       "      <td>80840</td>\n",
       "      <td>1.0</td>\n",
       "      <td>0.0</td>\n",
       "    </tr>\n",
       "    <tr>\n",
       "      <th>4</th>\n",
       "      <td>POLYGON ((-169.78913 52.68087, -170.13419 52.7...</td>\n",
       "      <td>71651241</td>\n",
       "      <td>2022-01-07</td>\n",
       "      <td>2022-02-18</td>\n",
       "      <td>80840</td>\n",
       "      <td>1.0</td>\n",
       "      <td>0.0</td>\n",
       "    </tr>\n",
       "  </tbody>\n",
       "</table>\n",
       "</div>"
      ],
      "text/plain": [
       "                                            geometry  forecast_id  \\\n",
       "0  POLYGON ((-169.78913 52.68087, -170.13419 52.7...      2227117   \n",
       "1  POLYGON ((-169.78913 52.68087, -170.13419 52.7...     19583148   \n",
       "2  POLYGON ((-169.78913 52.68087, -170.13419 52.7...     36939179   \n",
       "3  POLYGON ((-169.78913 52.68087, -170.13419 52.7...     54295210   \n",
       "4  POLYGON ((-169.78913 52.68087, -170.13419 52.7...     71651241   \n",
       "\n",
       "  date_forecast_generated date_forecast_for  cell_id  \\\n",
       "0              2022-01-03        2022-02-18    80840   \n",
       "1              2022-01-04        2022-02-18    80840   \n",
       "2              2022-01-05        2022-02-18    80840   \n",
       "3              2022-01-06        2022-02-18    80840   \n",
       "4              2022-01-07        2022-02-18    80840   \n",
       "\n",
       "   sea_ice_concentration_mean  sea_ice_concentration_stddev  \n",
       "0                         1.0                           0.0  \n",
       "1                         1.0                           0.0  \n",
       "2                         1.0                           0.0  \n",
       "3                         1.0                           0.0  \n",
       "4                         1.0                           0.0  "
      ]
     },
     "execution_count": 9,
     "metadata": {},
     "output_type": "execute_result"
    }
   ],
   "source": [
    "# Look at the first few rows of data\n",
    "geodata = gpd.GeoDataFrame.from_features(response.json(), crs=\"EPSG:4326\")\n",
    "geodata.head()"
   ]
  },
  {
   "cell_type": "markdown",
   "id": "f3df89bc",
   "metadata": {},
   "source": [
    "And now let's plot it with `matplotlib`"
   ]
  },
  {
   "cell_type": "code",
   "execution_count": 10,
   "id": "cd1dadfd",
   "metadata": {},
   "outputs": [
    {
     "data": {
      "image/png": "[encoded data removed]",
      "text/plain": [
       "<Figure size 864x720 with 1 Axes>"
      ]
     },
     "metadata": {
      "needs_background": "light"
     },
     "output_type": "display_data"
    }
   ],
   "source": [
    "# Plot the data\n",
    "fig, axes = plt.subplots(1, figsize=(12,10))\n",
    "plt.errorbar(\n",
    "    geodata[\"date_forecast_generated\"],\n",
    "    geodata[\"sea_ice_concentration_mean\"],\n",
    "    yerr=geodata[\"sea_ice_concentration_stddev\"],\n",
    "    marker=\"*\",\n",
    "    linestyle=\"None\"\n",
    ")\n",
    "plt.xticks(rotation=90)\n",
    "plt.tight_layout()"
   ]
  },
  {
   "cell_type": "markdown",
   "id": "731b27f9",
   "metadata": {},
   "source": [
    "You have now succesfully retrieved historic `IceNet` forecasts from our API and plotted them. 🎉"
   ]
  }
 ],
 "metadata": {
  "kernelspec": {
   "display_name": "Python 3 (ipykernel)",
   "language": "python",
   "name": "python3"
  },
  "language_info": {
   "codemirror_mode": {
    "name": "ipython",
    "version": 3
   },
   "file_extension": ".py",
   "mimetype": "text/x-python",
   "name": "python",
   "nbconvert_exporter": "python",
   "pygments_lexer": "ipython3",
   "version": "3.9.6"
  }
 },
 "nbformat": 4,
 "nbformat_minor": 5
}
